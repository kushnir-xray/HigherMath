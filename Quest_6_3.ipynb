{
 "cells": [
  {
   "cell_type": "code",
   "execution_count": 31,
   "id": "f2f98349",
   "metadata": {},
   "outputs": [
    {
     "name": "stdout",
     "output_type": "stream",
     "text": [
      "Матрица A:\n",
      " [[1 2 3]\n",
      " [4 5 6]\n",
      " [7 8 9]]\n",
      "Вектор B:\n",
      " [12  2  1]\n",
      "Решение системы:\n",
      " [-4.05323966e+16  8.10647933e+16 -4.05323966e+16]\n"
     ]
    }
   ],
   "source": [
    "import numpy as np\n",
    "import matplotlib.pyplot as plt\n",
    "A = np.array([[1, 2, 3], [4, 5, 6], [7, 8, 9]])\n",
    "B = np.array([12, 2, 1])\n",
    "x = np.linalg.solve(A, B)\n",
    "print (\"Матрица A:\\n\", A)\n",
    "print (\"Вектор B:\\n\",B)\n",
    "print (\"Решение системы:\\n\", x)"
   ]
  },
  {
   "cell_type": "code",
   "execution_count": 32,
   "id": "26e5b84a",
   "metadata": {},
   "outputs": [
    {
     "name": "stdout",
     "output_type": "stream",
     "text": [
      "Ранг матрицы A: 2\n",
      "Ранг матрицы B: 1\n"
     ]
    }
   ],
   "source": [
    "r1 = np.linalg.matrix_rank(A)\n",
    "r2 = np.linalg.matrix_rank(B)\n",
    "print (\"Ранг матрицы A:\", r1)\n",
    "print (\"Ранг матрицы B:\", r2)"
   ]
  },
  {
   "cell_type": "code",
   "execution_count": 36,
   "id": "f3fcd1ab",
   "metadata": {},
   "outputs": [
    {
     "name": "stdout",
     "output_type": "stream",
     "text": [
      "Матрица A:\n",
      " [[1 2 3]\n",
      " [4 5 6]\n",
      " [7 8 9]]\n",
      "Ранг матрицы A: 1\n",
      "Измененный вектор B:\n",
      " [1 1 1]\n",
      "Ранг измененной матрицы B: 1\n"
     ]
    }
   ],
   "source": [
    "A = np.array([[1, 2, 3], [4, 5, 6], [7, 8, 9]])\n",
    "b = np.array([1, 1, 1])\n",
    "r1 = np.linalg.matrix_rank(A)\n",
    "r = np.linalg.matrix_rank(b)\n",
    "print (\"Матрица A:\\n\", A)\n",
    "print (\"Ранг матрицы A:\", r)\n",
    "print (\"Измененный вектор B:\\n\",b)\n",
    "print (\"Ранг измененной матрицы B:\", r)"
   ]
  },
  {
   "cell_type": "code",
   "execution_count": 37,
   "id": "659751f8",
   "metadata": {},
   "outputs": [
    {
     "name": "stdout",
     "output_type": "stream",
     "text": [
      "Матрица A:\n",
      " [[1 2 3]\n",
      " [4 5 6]\n",
      " [7 8 9]]\n",
      "Измененный вектор B:\n",
      " [1 1 1]\n",
      "Решение системы:\n",
      " [-2.5  4.  -1.5]\n"
     ]
    }
   ],
   "source": [
    "\n",
    "x = np.linalg.solve(A, b)\n",
    "print (\"Матрица A:\\n\", A)\n",
    "print (\"Измененный вектор B:\\n\",b)\n",
    "print (\"Решение системы:\\n\", x)"
   ]
  }
 ],
 "metadata": {
  "kernelspec": {
   "display_name": "Python 3 (ipykernel)",
   "language": "python",
   "name": "python3"
  },
  "language_info": {
   "codemirror_mode": {
    "name": "ipython",
    "version": 3
   },
   "file_extension": ".py",
   "mimetype": "text/x-python",
   "name": "python",
   "nbconvert_exporter": "python",
   "pygments_lexer": "ipython3",
   "version": "3.9.7"
  }
 },
 "nbformat": 4,
 "nbformat_minor": 5
}
