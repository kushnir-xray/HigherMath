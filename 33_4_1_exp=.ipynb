{
 "cells": [
  {
   "cell_type": "code",
   "execution_count": 3,
   "id": "3ca502b3",
   "metadata": {},
   "outputs": [
    {
     "name": "stdout",
     "output_type": "stream",
     "text": [
      "-8.12539509656948e-21 -1.0\n"
     ]
    }
   ],
   "source": [
    "from scipy.optimize import fsolve\n",
    "def equitations(p):\n",
    "    x, y = p\n",
    "    return y - x**2 + 1, np.exp(x) + x*(1-y) - 1\n",
    "\n",
    "x1, y1 = fsolve(equitations, (0, 0))\n",
    "\n",
    "print(x1, y1)"
   ]
  },
  {
   "cell_type": "code",
   "execution_count": null,
   "id": "93253c44",
   "metadata": {},
   "outputs": [],
   "source": []
  }
 ],
 "metadata": {
  "kernelspec": {
   "display_name": "Python 3 (ipykernel)",
   "language": "python",
   "name": "python3"
  },
  "language_info": {
   "codemirror_mode": {
    "name": "ipython",
    "version": 3
   },
   "file_extension": ".py",
   "mimetype": "text/x-python",
   "name": "python",
   "nbconvert_exporter": "python",
   "pygments_lexer": "ipython3",
   "version": "3.9.7"
  }
 },
 "nbformat": 4,
 "nbformat_minor": 5
}
