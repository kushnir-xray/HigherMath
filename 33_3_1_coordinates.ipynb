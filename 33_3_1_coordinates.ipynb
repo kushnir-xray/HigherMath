{
 "cells": [
  {
   "cell_type": "code",
   "execution_count": 1,
   "id": "b92f5c89",
   "metadata": {},
   "outputs": [
    {
     "name": "stdout",
     "output_type": "stream",
     "text": [
      "(4.92403876506104, 0.8682408883346516)\n"
     ]
    }
   ],
   "source": [
    "import numpy as np\n",
    "import matplotlib.pyplot as plt\n",
    "%matplotlib inline\n",
    "\n",
    "def polar_to_cartesian(R, a):\n",
    "    x = R * np.cos(np.radians(a))\n",
    "    y = R * np.sin(np.radians(a))\n",
    "    return x, y\n",
    "print(polar_to_cartesian(5, 10))"
   ]
  },
  {
   "cell_type": "code",
   "execution_count": null,
   "id": "2920d806",
   "metadata": {},
   "outputs": [],
   "source": []
  }
 ],
 "metadata": {
  "kernelspec": {
   "display_name": "Python 3 (ipykernel)",
   "language": "python",
   "name": "python3"
  },
  "language_info": {
   "codemirror_mode": {
    "name": "ipython",
    "version": 3
   },
   "file_extension": ".py",
   "mimetype": "text/x-python",
   "name": "python",
   "nbconvert_exporter": "python",
   "pygments_lexer": "ipython3",
   "version": "3.9.7"
  }
 },
 "nbformat": 4,
 "nbformat_minor": 5
}
