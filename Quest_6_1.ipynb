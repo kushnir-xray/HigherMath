{
 "cells": [
  {
   "cell_type": "code",
   "execution_count": 4,
   "id": "f2f98349",
   "metadata": {},
   "outputs": [
    {
     "name": "stdout",
     "output_type": "stream",
     "text": [
      "Матрица A:\n",
      " [[1 2 3]\n",
      " [4 0 6]\n",
      " [7 8 9]]\n",
      "Вектор B:\n",
      " [12  2  1]\n",
      "Решение системы:\n",
      " [-9.2         0.9         6.46666667]\n"
     ]
    }
   ],
   "source": [
    "import numpy as np\n",
    "import matplotlib.pyplot as plt\n",
    "A = np.array([[1, 2, 3], [4, 0, 6], [7, 8, 9]])\n",
    "B = np.array([12, 2, 1])\n",
    "x = np.linalg.solve(A, B)\n",
    "print (\"Матрица A:\\n\", A)\n",
    "print (\"Вектор B:\\n\",B)\n",
    "print (\"Решение системы:\\n\", x)"
   ]
  },
  {
   "cell_type": "code",
   "execution_count": 8,
   "id": "b705b244",
   "metadata": {},
   "outputs": [
    {
     "name": "stdout",
     "output_type": "stream",
     "text": [
      "Проверка: [12.  2.  1.]\n"
     ]
    }
   ],
   "source": [
    "print (\"Проверка:\", A.dot(x))"
   ]
  },
  {
   "cell_type": "code",
   "execution_count": null,
   "id": "da04290a",
   "metadata": {},
   "outputs": [],
   "source": []
  }
 ],
 "metadata": {
  "kernelspec": {
   "display_name": "Python 3 (ipykernel)",
   "language": "python",
   "name": "python3"
  },
  "language_info": {
   "codemirror_mode": {
    "name": "ipython",
    "version": 3
   },
   "file_extension": ".py",
   "mimetype": "text/x-python",
   "name": "python",
   "nbconvert_exporter": "python",
   "pygments_lexer": "ipython3",
   "version": "3.9.7"
  }
 },
 "nbformat": 4,
 "nbformat_minor": 5
}
