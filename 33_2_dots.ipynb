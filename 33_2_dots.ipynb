{
 "cells": [
  {
   "cell_type": "code",
   "execution_count": 4,
   "id": "41fb3966",
   "metadata": {},
   "outputs": [
    {
     "name": "stdout",
     "output_type": "stream",
     "text": [
      "5.38516 5.38516\n",
      "True\n"
     ]
    },
    {
     "data": {
      "image/png": "[encoded data removed]",
      "text/plain": [
       "<Figure size 432x288 with 1 Axes>"
      ]
     },
     "metadata": {
      "needs_background": "light"
     },
     "output_type": "display_data"
    }
   ],
   "source": [
    "import numpy as np\n",
    "import matplotlib.pyplot as plt\n",
    "%matplotlib inline\n",
    "\n",
    "x, y = 2, 5\n",
    "a = np.pi / 4 \n",
    "sin_a = np.sin(a)\n",
    "cos_a = np.cos(a)\n",
    "x1, y1 = x*sin_a + y*cos_a, x*-sin_a + y*cos_a\n",
    "plt.plot(x, y, color='blue', marker='*')\n",
    "plt.plot(x1, y1, color='red', marker='*')\n",
    "\n",
    "norm = np.round(np.linalg.norm([x, y]), 5)\n",
    "norm1 = np.round(np.linalg.norm([x1, y1]), 5)\n",
    "print(norm, norm1)\n",
    "print(norm == norm1)\n"
   ]
  },
  {
   "cell_type": "code",
   "execution_count": null,
   "id": "8db93f87",
   "metadata": {},
   "outputs": [],
   "source": []
  }
 ],
 "metadata": {
  "kernelspec": {
   "display_name": "Python 3 (ipykernel)",
   "language": "python",
   "name": "python3"
  },
  "language_info": {
   "codemirror_mode": {
    "name": "ipython",
    "version": 3
   },
   "file_extension": ".py",
   "mimetype": "text/x-python",
   "name": "python",
   "nbconvert_exporter": "python",
   "pygments_lexer": "ipython3",
   "version": "3.9.7"
  }
 },
 "nbformat": 4,
 "nbformat_minor": 5
}
