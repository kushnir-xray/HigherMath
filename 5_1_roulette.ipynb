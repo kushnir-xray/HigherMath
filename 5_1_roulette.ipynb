{
 "cells": [
  {
   "cell_type": "code",
   "execution_count": 5,
   "id": "a0734915",
   "metadata": {},
   "outputs": [
    {
     "name": "stdout",
     "output_type": "stream",
     "text": [
      "Введите номер или цвет выбранной ячейки:12\n",
      "11 Вы проиграли\n",
      "Введите номер или цвет выбранной ячейки:0\n",
      "29 Вы проиграли\n",
      "Введите номер или цвет выбранной ячейки:черное\n",
      "26 Вы проиграли\n",
      "Введите номер или цвет выбранной ячейки:черное\n",
      "28 Вы проиграли\n",
      "Введите номер или цвет выбранной ячейки:белое\n",
      "Введите номер или цвет выбранной ячейки:черное\n",
      "17 черное Вы выиграли\n",
      "Введите номер или цвет выбранной ячейки:65\n",
      "Такой ячейки нет. Игра закончена.\n"
     ]
    }
   ],
   "source": [
    "import numpy as np\n",
    "bet = 0\n",
    "while True:\n",
    "    bet = input ('Введите номер или цвет выбранной ячейки:')\n",
    "    try:\n",
    "        bet = int(bet)\n",
    "        if bet > 36:\n",
    "            print('Такой ячейки нет. Игра закончена.')\n",
    "            break\n",
    "        bet_1 = round(np.random.uniform (0,36))\n",
    "        if bet == bet_1:\n",
    "            print(bet_1, 'Вы выиграли')\n",
    "        else:\n",
    "            print(bet_1, 'Вы проиграли')\n",
    "    except ValueError:\n",
    "        if bet == 'красное' or bet == 'черное':\n",
    "            bet_2 = round(np.random.uniform (0,36))\n",
    "            if bet_2 % 2 != 0 and bet == 'черное':\n",
    "                print(bet_2, 'черное','Вы выиграли')\n",
    "            elif bet_2% 2 ==0 and bet =='красное' and bet_2 !=0:\n",
    "                print(bet_2, 'красное', 'Вы выиграли')\n",
    "            else:\n",
    "                print(bet_2, 'Вы проиграли')\n",
    "        \n"
   ]
  },
  {
   "cell_type": "code",
   "execution_count": null,
   "id": "d2fbb51c",
   "metadata": {},
   "outputs": [],
   "source": []
  }
 ],
 "metadata": {
  "kernelspec": {
   "display_name": "Python 3 (ipykernel)",
   "language": "python",
   "name": "python3"
  },
  "language_info": {
   "codemirror_mode": {
    "name": "ipython",
    "version": 3
   },
   "file_extension": ".py",
   "mimetype": "text/x-python",
   "name": "python",
   "nbconvert_exporter": "python",
   "pygments_lexer": "ipython3",
   "version": "3.9.7"
  }
 },
 "nbformat": 4,
 "nbformat_minor": 5
}
