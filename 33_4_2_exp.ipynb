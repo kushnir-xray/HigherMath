{
 "cells": [
  {
   "cell_type": "code",
   "execution_count": 7,
   "id": "f0e3be67",
   "metadata": {},
   "outputs": [
    {
     "name": "stdout",
     "output_type": "stream",
     "text": [
      "x: 1, y: 0\n",
      "6.518257539454072e-15 -1.000000000000011\n"
     ]
    }
   ],
   "source": [
    "import numpy as np\n",
    "import matplotlib.pyplot as plt\n",
    "%matplotlib inline\n",
    "from scipy.optimize import fsolve\n",
    "\n",
    "def A(p):\n",
    "    x, y = p\n",
    "    return y - x**2 + 1, np.exp(x) + x*(1-y) - 1\n",
    "\n",
    "x = 0\n",
    "while True:\n",
    "    y = x**2 - 1\n",
    "    if np.exp(x) + x*(1-y) > 1:\n",
    "        print(f'x: {x}, y: {y}')\n",
    "        break\n",
    "    else:\n",
    "        x += 1\n",
    "        \n",
    "x2, y2 = fsolve(A, (1, 0))\n",
    "\n",
    "print(x2, y2)"
   ]
  },
  {
   "cell_type": "code",
   "execution_count": null,
   "id": "9100f5eb",
   "metadata": {},
   "outputs": [],
   "source": []
  }
 ],
 "metadata": {
  "kernelspec": {
   "display_name": "Python 3 (ipykernel)",
   "language": "python",
   "name": "python3"
  },
  "language_info": {
   "codemirror_mode": {
    "name": "ipython",
    "version": 3
   },
   "file_extension": ".py",
   "mimetype": "text/x-python",
   "name": "python",
   "nbconvert_exporter": "python",
   "pygments_lexer": "ipython3",
   "version": "3.9.7"
  }
 },
 "nbformat": 4,
 "nbformat_minor": 5
}
