{
 "cells": [
  {
   "cell_type": "code",
   "execution_count": 8,
   "id": "adedcc6e",
   "metadata": {},
   "outputs": [
    {
     "name": "stdout",
     "output_type": "stream",
     "text": [
      "\n",
      "Количество выпадания 40 орлов и 30 решек при 70 попыток\n",
      "\n",
      "Количество выпадания 44 орлов и 41 решек при 85 попыток\n",
      "\n",
      "Количество выпадания 53 орлов и 47 решек при 100 попыток\n",
      "\n",
      "Количество выпадания 58 орлов и 57 решек при 115 попыток\n",
      "\n",
      "Вероятность выпадения 35 орлов при 70 попыток - 9.50255 %\n",
      "Вероятность выпадения 40 орлов при 70 попыток - 4.68814 %\n",
      "Вероятность выпадения 45 орлов при 70 попыток - 0.54682 %\n",
      "Вероятность выпадения 50 орлов при 70 попыток - 0.01371 %\n",
      "Вероятность выпадения 55 орлов при 70 попыток - 0.00006 %\n",
      "\n",
      "Вероятность выпадения 35 орлов при 85 попыток - 2.31711 %\n",
      "Вероятность выпадения 40 орлов при 85 попыток - 7.46099 %\n",
      "Вероятность выпадения 45 орлов при 85 попыток - 7.46099 %\n",
      "Вероятность выпадения 50 орлов при 85 попыток - 2.31711 %\n",
      "Вероятность выпадения 55 орлов при 85 попыток - 0.21623 %\n",
      "\n",
      "Вероятность выпадения 35 орлов при 100 попыток - 0.08639 %\n",
      "Вероятность выпадения 40 орлов при 100 попыток - 1.08439 %\n",
      "Вероятность выпадения 45 орлов при 100 попыток - 4.84743 %\n",
      "Вероятность выпадения 50 орлов при 100 попыток - 7.95892 %\n",
      "Вероятность выпадения 55 орлов при 100 попыток - 4.84743 %\n",
      "\n",
      "Вероятность выпадения 35 орлов при 115 попыток - 0.00095 %\n",
      "Вероятность выпадения 40 орлов при 115 попыток - 0.03479 %\n",
      "Вероятность выпадения 45 орлов при 115 попыток - 0.49144 %\n",
      "Вероятность выпадения 50 орлов при 115 попыток - 2.80728 %\n",
      "Вероятность выпадения 55 орлов при 115 попыток - 6.66553 %\n",
      "\n",
      " [14, 15, 22, 13, 11, 13, 13, 15, 17, 16, 11, 17, 16, 11, 15, 17, 13, 18, 11, 17, 17, 22, 17, 17, 17, 16, 19, 13, 13, 18, 13, 18, 14, 14, 8, 19, 15, 10, 10, 15] [16, 15, 8, 17, 19, 17, 17, 15, 13, 14, 19, 13, 14, 19, 15, 13, 17, 12, 19, 13, 13, 8, 13, 13, 13, 14, 11, 17, 17, 12, 17, 12, 16, 16, 22, 11, 15, 20, 20, 15]\n"
     ]
    },
    {
     "data": {
      "image/png": "[encoded data removed]",
      "text/plain": [
       "<Figure size 432x288 with 1 Axes>"
      ]
     },
     "metadata": {
      "needs_background": "light"
     },
     "output_type": "display_data"
    },
    {
     "name": "stdout",
     "output_type": "stream",
     "text": [
      "\n",
      " Kоэффициент корреляции равен -1.0\n"
     ]
    },
    {
     "name": "stderr",
     "output_type": "stream",
     "text": [
      "C:\\Users\\kushn\\AppData\\Local\\Temp/ipykernel_37344/2347655963.py:39: RuntimeWarning: invalid value encountered in true_divide\n",
      "  R1 = np.sum((X[i]-X[i-1])*(Y[i]-Y[i-1]))/np.sqrt((np.sum(X[i]-X[i-1])**2)*np.sum((Y[i]-Y[i-1])**2))\n"
     ]
    }
   ],
   "source": [
    "import random\n",
    "import matplotlib.pyplot as plt\n",
    "import numpy as np\n",
    "import math\n",
    "for n in range (70, 130, 15):\n",
    "    print()\n",
    "    obverse, reverse = 0, 0\n",
    "    for i in range(0, n):\n",
    "        x = np.random.uniform(0, 10)\n",
    "        if x < 5:\n",
    "            obverse += 1\n",
    "        else:\n",
    "            reverse += 1\n",
    "    print (f'Количество выпадания {obverse} орлов и {reverse} решек при {n} попыток')\n",
    "p =0.5 \n",
    "q = (1-p)\n",
    "for n in range (70, 130, 15):\n",
    "    print()\n",
    "    for obverse in range (35, 60, 5):\n",
    "        P=(math.factorial(n)/(math.factorial(obverse)*math.factorial(n-obverse)))*(p**obverse)*(q**(n-obverse))*100\n",
    "        print (f'Вероятность выпадения {obverse} орлов при {n} попыток - {P:.5f} %')\n",
    "X=[]\n",
    "Y=[]\n",
    "for n in range (75, 115):\n",
    "    x, y = 0, 0\n",
    "    for i in range(0, 30):\n",
    "        obverse = np.random.uniform(0, 10)\n",
    "        if obverse<5:\n",
    "            x += 1\n",
    "        else:\n",
    "            y += 1\n",
    "    X.append(x)\n",
    "    Y.append(y)\n",
    "print('\\n',X,Y)\n",
    "plt.hist(X, bins='auto')\n",
    "plt.show()\n",
    "\n",
    "for i in range (1, len(X)):\n",
    "    R1 = np.sum((X[i]-X[i-1])*(Y[i]-Y[i-1]))/np.sqrt((np.sum(X[i]-X[i-1])**2)*np.sum((Y[i]-Y[i-1])**2))\n",
    "print('\\n',f'Kоэффициент корреляции равен {R1}')"
   ]
  },
  {
   "cell_type": "code",
   "execution_count": null,
   "id": "9a0a8ea7",
   "metadata": {},
   "outputs": [],
   "source": []
  }
 ],
 "metadata": {
  "kernelspec": {
   "display_name": "Python 3 (ipykernel)",
   "language": "python",
   "name": "python3"
  },
  "language_info": {
   "codemirror_mode": {
    "name": "ipython",
    "version": 3
   },
   "file_extension": ".py",
   "mimetype": "text/x-python",
   "name": "python",
   "nbconvert_exporter": "python",
   "pygments_lexer": "ipython3",
   "version": "3.9.7"
  }
 },
 "nbformat": 4,
 "nbformat_minor": 5
}
