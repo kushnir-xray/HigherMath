{
 "cells": [
  {
   "cell_type": "code",
   "execution_count": 6,
   "id": "81ad49e1",
   "metadata": {},
   "outputs": [
    {
     "data": {
      "image/png": "[encoded data removed]",
      "text/plain": [
       "<Figure size 432x288 with 1 Axes>"
      ]
     },
     "metadata": {
      "needs_background": "light"
     },
     "output_type": "display_data"
    }
   ],
   "source": [
    "import numpy as np\n",
    "import matplotlib.pyplot as plt\n",
    "%matplotlib inline\n",
    "def draw_hyperbole(a=1, b=2, x_range=[-5, 5], color='red'):\n",
    "    epsilon = np.finfo(float).eps\n",
    "    f0 = epsilon+a\n",
    "    _x1 = np.linspace(x_range[0], -f0, (x_range[1]-x_range[0])*100)\n",
    "    _x2 = np.linspace(f0, x_range[1], (x_range[1]-x_range[0])*100)\n",
    "    \n",
    "    f = lambda x: np.sqrt((x**2/a**2) - 1)/b\n",
    "    \n",
    "    _y1 = np.array([f(v) for v in _x1])\n",
    "    _y2 = np.array([f(v) for v in _x2])\n",
    "    _y3 = np.array([-f(v) for v in _x1])\n",
    "    _y4 = np.array([-f(v) for v in _x2])\n",
    "    \n",
    "    plt.plot(_x1, _y1, color=color, linewidth=1)\n",
    "    plt.plot(_x2, _y2, color=color, linewidth=1)\n",
    "    plt.plot(_x1, _y3, color=color, linewidth=1)\n",
    "    plt.plot(_x2, _y4, color=color, linewidth=1)\n",
    "    plt.gca().set_aspect('equal')\n",
    "\n",
    "draw_hyperbole()"
   ]
  },
  {
   "cell_type": "code",
   "execution_count": null,
   "id": "47202de2",
   "metadata": {},
   "outputs": [],
   "source": []
  }
 ],
 "metadata": {
  "kernelspec": {
   "display_name": "Python 3 (ipykernel)",
   "language": "python",
   "name": "python3"
  },
  "language_info": {
   "codemirror_mode": {
    "name": "ipython",
    "version": 3
   },
   "file_extension": ".py",
   "mimetype": "text/x-python",
   "name": "python",
   "nbconvert_exporter": "python",
   "pygments_lexer": "ipython3",
   "version": "3.9.7"
  }
 },
 "nbformat": 4,
 "nbformat_minor": 5
}
